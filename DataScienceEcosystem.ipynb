{
 "cells": [
  {
   "cell_type": "markdown",
   "id": "83b68fdd-3cef-4884-8cc7-4fdf2aea5a51",
   "metadata": {},
   "source": [
    "<h1>Data Science Tools and Ecosystem</h1>"
   ]
  },
  {
   "cell_type": "markdown",
   "id": "333e1898-1382-4178-ba34-d2a24815f3e1",
   "metadata": {
    "tags": []
   },
   "source": [
    "## In this notebook, Data Science Tools and Ecosystem are summarized"
   ]
  },
  {
   "cell_type": "markdown",
   "id": "fa1172a1-3a23-4e92-8ca6-3ad90dca09ad",
   "metadata": {},
   "source": [
    "### Some of the popular languages that Data Scientists use are:\n",
    "\n",
    "1. Python\n",
    "2. R\n",
    "3. SQL"
   ]
  },
  {
   "cell_type": "markdown",
   "id": "df7748f0-f62e-478e-a85c-148871d9a3f3",
   "metadata": {},
   "source": [
    "### Some of the commonly used libraries used by Data Scientists include:\n",
    "\n",
    "1. Numpy\n",
    "2. Pandas\n",
    "3. Matplotlib"
   ]
  },
  {
   "cell_type": "markdown",
   "id": "5e26f7b6-fec9-4c78-ad63-21e7f25d27ac",
   "metadata": {},
   "source": [
    "| Data Science Tools |\n",
    "| ------------------ |\n",
    "| Jupyter Notebook |\n",
    "| Anaconda |\n",
    "| Pycharm |"
   ]
  },
  {
   "cell_type": "markdown",
   "id": "5018c182-0be9-4945-a5aa-781e16a44813",
   "metadata": {
    "tags": []
   },
   "source": [
    "<h3> Below are a few examples of evaluating arithmetic expressions in Python </h3>"
   ]
  },
  {
   "cell_type": "code",
   "execution_count": 3,
   "id": "12effca4-97ed-46b6-b999-2392de25dc95",
   "metadata": {
    "tags": []
   },
   "outputs": [
    {
     "data": {
      "text/plain": [
       "17"
      ]
     },
     "execution_count": 3,
     "metadata": {},
     "output_type": "execute_result"
    }
   ],
   "source": [
    "#This a simple arithmetic expression to mutiply then add integers\n",
    "(3*4)+5"
   ]
  },
  {
   "cell_type": "code",
   "execution_count": 7,
   "id": "2a832fbb-bcca-4a73-8bde-9d8addc13b99",
   "metadata": {
    "tags": []
   },
   "outputs": [
    {
     "data": {
      "text/plain": [
       "3.3333333333333335"
      ]
     },
     "execution_count": 7,
     "metadata": {},
     "output_type": "execute_result"
    }
   ],
   "source": [
    "#This will convert 200 minutes to hours by diving by 60\n",
    "a = 200/60\n",
    "a"
   ]
  },
  {
   "cell_type": "markdown",
   "id": "324df1b6-461e-4889-88d0-439ff57d48bb",
   "metadata": {},
   "source": [
    "<b> Objectives: </b>\n",
    "\n",
    "* markdown cell with title of the notebook\n",
    "* markdown cell to list data science languages\n",
    "* markdown cell to list data science libraries\n",
    "* markdown cell with a table of Data Science tools\n",
    "* markdown cell introducing arithmetic expression"
   ]
  },
  {
   "cell_type": "markdown",
   "id": "834184fa-3e00-4404-becd-a452ad071056",
   "metadata": {},
   "source": [
    "## Author\n",
    "Akash Ranjan"
   ]
  },
  {
   "cell_type": "code",
   "execution_count": null,
   "id": "fd98b6de-6f46-4dad-baa3-542ab51123cf",
   "metadata": {},
   "outputs": [],
   "source": []
  }
 ],
 "metadata": {
  "kernelspec": {
   "display_name": "Python 3 (ipykernel)",
   "language": "python",
   "name": "python3"
  },
  "language_info": {
   "codemirror_mode": {
    "name": "ipython",
    "version": 3
   },
   "file_extension": ".py",
   "mimetype": "text/x-python",
   "name": "python",
   "nbconvert_exporter": "python",
   "pygments_lexer": "ipython3",
   "version": "3.10.4"
  }
 },
 "nbformat": 4,
 "nbformat_minor": 5
}
